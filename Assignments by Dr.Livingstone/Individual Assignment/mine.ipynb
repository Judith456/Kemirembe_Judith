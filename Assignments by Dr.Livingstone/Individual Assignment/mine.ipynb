{
 "cells": [
  {
   "cell_type": "markdown",
   "id": "d16bc361",
   "metadata": {},
   "source": [
    "You are provided with two datasets containing information in a CSV file. The datasets have the \n",
    "following issues: \n",
    "1) Missing values / Empty cells \n",
    "2) Inconsistent date formats \n",
    "3) Duplicate rows. \n",
    "4) Wrong data \n",
    "5) Unnecessary columns that are not relevant to the analysis. \n",
    "Write pandas scripts to clean these datasets by addressing each of the issues mentioned above"
   ]
  },
  {
   "cell_type": "code",
   "execution_count": 15,
   "id": "bc39eb80",
   "metadata": {},
   "outputs": [
    {
     "data": {
      "text/html": [
       "<div>\n",
       "<style scoped>\n",
       "    .dataframe tbody tr th:only-of-type {\n",
       "        vertical-align: middle;\n",
       "    }\n",
       "\n",
       "    .dataframe tbody tr th {\n",
       "        vertical-align: top;\n",
       "    }\n",
       "\n",
       "    .dataframe thead th {\n",
       "        text-align: right;\n",
       "    }\n",
       "</style>\n",
       "<table border=\"1\" class=\"dataframe\">\n",
       "  <thead>\n",
       "    <tr style=\"text-align: right;\">\n",
       "      <th></th>\n",
       "      <th>Duration</th>\n",
       "      <th>Date</th>\n",
       "      <th>Pulse</th>\n",
       "      <th>Maxpulse</th>\n",
       "      <th>Calories</th>\n",
       "    </tr>\n",
       "  </thead>\n",
       "  <tbody>\n",
       "    <tr>\n",
       "      <th>0</th>\n",
       "      <td>60</td>\n",
       "      <td>2023/10/01'</td>\n",
       "      <td>110.0</td>\n",
       "      <td>130.0</td>\n",
       "      <td>409.1</td>\n",
       "    </tr>\n",
       "    <tr>\n",
       "      <th>1</th>\n",
       "      <td>60</td>\n",
       "      <td>2023/10/02'</td>\n",
       "      <td>117.0</td>\n",
       "      <td>145.0</td>\n",
       "      <td>479.0</td>\n",
       "    </tr>\n",
       "    <tr>\n",
       "      <th>2</th>\n",
       "      <td>60</td>\n",
       "      <td>2023/10/03'</td>\n",
       "      <td>103.0</td>\n",
       "      <td>135.0</td>\n",
       "      <td>340.3</td>\n",
       "    </tr>\n",
       "    <tr>\n",
       "      <th>3</th>\n",
       "      <td>45</td>\n",
       "      <td>2023/10/04'</td>\n",
       "      <td>109.0</td>\n",
       "      <td>175.0</td>\n",
       "      <td>282.4</td>\n",
       "    </tr>\n",
       "    <tr>\n",
       "      <th>4</th>\n",
       "      <td>45</td>\n",
       "      <td>2023/10/05'</td>\n",
       "      <td>117.0</td>\n",
       "      <td>150.0</td>\n",
       "      <td>405.1</td>\n",
       "    </tr>\n",
       "  </tbody>\n",
       "</table>\n",
       "</div>"
      ],
      "text/plain": [
       "   Duration         Date  Pulse  Maxpulse  Calories\n",
       "0        60  2023/10/01'  110.0     130.0     409.1\n",
       "1        60  2023/10/02'  117.0     145.0     479.0\n",
       "2        60  2023/10/03'  103.0     135.0     340.3\n",
       "3        45  2023/10/04'  109.0     175.0     282.4\n",
       "4        45  2023/10/05'  117.0     150.0     405.1"
      ]
     },
     "execution_count": 15,
     "metadata": {},
     "output_type": "execute_result"
    }
   ],
   "source": [
    "import pandas as pd\n",
    "\n",
    "df = pd.read_csv('Mine.csv')\n",
    "df.head()"
   ]
  },
  {
   "cell_type": "code",
   "execution_count": 16,
   "id": "81f75458",
   "metadata": {},
   "outputs": [
    {
     "data": {
      "text/plain": [
       "Duration      int64\n",
       "Date         object\n",
       "Pulse       float64\n",
       "Maxpulse    float64\n",
       "Calories    float64\n",
       "dtype: object"
      ]
     },
     "execution_count": 16,
     "metadata": {},
     "output_type": "execute_result"
    }
   ],
   "source": [
    "df.dtypes"
   ]
  },
  {
   "cell_type": "code",
   "execution_count": 17,
   "id": "701aa471",
   "metadata": {},
   "outputs": [
    {
     "data": {
      "text/plain": [
       "Duration    0\n",
       "Date        2\n",
       "Pulse       1\n",
       "Maxpulse    2\n",
       "Calories    4\n",
       "dtype: int64"
      ]
     },
     "execution_count": 17,
     "metadata": {},
     "output_type": "execute_result"
    }
   ],
   "source": [
    "#Check for missing values\n",
    "df.isnull().sum()"
   ]
  },
  {
   "cell_type": "code",
   "execution_count": 18,
   "id": "9becacbc",
   "metadata": {},
   "outputs": [
    {
     "data": {
      "text/plain": [
       "Duration    0\n",
       "Date        0\n",
       "Pulse       0\n",
       "Maxpulse    0\n",
       "Calories    0\n",
       "dtype: int64"
      ]
     },
     "execution_count": 18,
     "metadata": {},
     "output_type": "execute_result"
    }
   ],
   "source": [
    "#Filling in missing Values\n",
    "\n",
    "df.dropna(subset = ['Date'], inplace = True)\n",
    "\n",
    "df['Pulse'] = df['Pulse'].fillna(df['Pulse'].median())\n",
    "df['Maxpulse'] = df['Maxpulse'].fillna(df['Maxpulse'].median())\n",
    "df['Calories'] = df['Calories'].fillna(df['Calories'].median())\n",
    "\n",
    "df.isnull().sum()"
   ]
  },
  {
   "cell_type": "code",
   "execution_count": 19,
   "id": "ee01d20a",
   "metadata": {},
   "outputs": [
    {
     "data": {
      "text/plain": [
       "np.int64(0)"
      ]
     },
     "execution_count": 19,
     "metadata": {},
     "output_type": "execute_result"
    }
   ],
   "source": [
    "#incosistent date formats corrected\n",
    "\n",
    "df['Date'] = pd.to_datetime(df['Date'], format='mixed')\n",
    "\n",
    "#Checking for Duplicate Rows\n",
    "df.duplicated().sum()"
   ]
  },
  {
   "cell_type": "code",
   "execution_count": 20,
   "id": "01265eca",
   "metadata": {},
   "outputs": [
    {
     "data": {
      "text/plain": [
       "Duration             int64\n",
       "Date        datetime64[ns]\n",
       "Pulse              float64\n",
       "Maxpulse           float64\n",
       "Calories           float64\n",
       "dtype: object"
      ]
     },
     "execution_count": 20,
     "metadata": {},
     "output_type": "execute_result"
    }
   ],
   "source": [
    "df.dtypes"
   ]
  },
  {
   "cell_type": "code",
   "execution_count": 21,
   "id": "2795e687",
   "metadata": {},
   "outputs": [
    {
     "name": "stdout",
     "output_type": "stream",
     "text": [
      "Edited mine data\n",
      "    Duration       Date  Pulse  Maxpulse  Calories\n",
      "0         60 2023-10-01  110.0     130.0     409.1\n",
      "1         60 2023-10-02  117.0     145.0     479.0\n",
      "2         60 2023-10-03  103.0     135.0     340.3\n",
      "3         45 2023-10-04  109.0     175.0     282.4\n",
      "4         45 2023-10-05  117.0     150.0     405.1\n",
      "5         60 2023-10-06  103.0     125.0     300.0\n",
      "6         60 2023-10-07  110.0     135.0     374.0\n",
      "7         40 2023-10-08  114.0     133.0     282.4\n",
      "8         60 2023-10-09  112.0     126.0     193.8\n",
      "9         30 2023-10-10  102.0     147.0     234.8\n",
      "10        60 2023-10-11  100.0     129.0     375.3\n",
      "11        60 2023-10-12  109.0     131.0     345.6\n",
      "12        60 2023-10-13  103.0     136.0     239.2\n",
      "13        60 2023-10-15  120.0     125.0     240.8\n",
      "20        60 2023-10-21  100.0     106.0     280.0\n",
      "21        60 2023-10-22  103.0     107.0     282.4\n",
      "30        60 2023-10-31   94.0     126.0     282.4\n"
     ]
    }
   ],
   "source": [
    "#Wrong data \n",
    "df.loc[7, 'Duration'] = 40\n",
    "\n",
    "print('Edited mine data')\n",
    "\n",
    "for y in df.index:\n",
    "    if df.loc[y, \"Pulse\"] > df.loc[y, \"Maxpulse\"]:\n",
    "        df.drop(y, inplace = True)\n",
    "\n",
    "print(df)\n",
    "\n"
   ]
  },
  {
   "cell_type": "code",
   "execution_count": 22,
   "id": "316ba190",
   "metadata": {},
   "outputs": [
    {
     "name": "stdout",
     "output_type": "stream",
     "text": [
      "Cleaned dataset\n"
     ]
    }
   ],
   "source": [
    "print('Cleaned dataset')\n",
    "df.to_csv('Updatedmine.csv')\n",
    "df.set_index('Duration', inplace = True)"
   ]
  }
 ],
 "metadata": {
  "kernelspec": {
   "display_name": "Python 3",
   "language": "python",
   "name": "python3"
  },
  "language_info": {
   "codemirror_mode": {
    "name": "ipython",
    "version": 3
   },
   "file_extension": ".py",
   "mimetype": "text/x-python",
   "name": "python",
   "nbconvert_exporter": "python",
   "pygments_lexer": "ipython3",
   "version": "3.12.3"
  }
 },
 "nbformat": 4,
 "nbformat_minor": 5
}
